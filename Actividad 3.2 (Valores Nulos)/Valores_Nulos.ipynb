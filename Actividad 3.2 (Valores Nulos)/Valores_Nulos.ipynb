{
 "cells": [
  {
   "cell_type": "markdown",
   "metadata": {},
   "source": [
    "Ciudad elegida: Boston"
   ]
  },
  {
   "cell_type": "code",
   "execution_count": 2,
   "metadata": {},
   "outputs": [],
   "source": [
    "#Importamos librerías de pandas, nunoy y matplotlib respectivamente.\n",
    "import pandas as pd\n",
    "import numpy as np\n",
    "import matplotlib.pyplot as plt"
   ]
  },
  {
   "cell_type": "code",
   "execution_count": null,
   "metadata": {},
   "outputs": [],
   "source": [
    "#Leemos el archivo de excel indicado (extensión xlsx).\n",
    "df= pd.read_excel('País.xlsx')\n",
    "df"
   ]
  },
  {
   "cell_type": "code",
   "execution_count": null,
   "metadata": {},
   "outputs": [],
   "source": [
    "#Eliminamos las columnas innecesarias.\n",
    "df1=df.drop(['listing_url','scrape_id','source','name','description','neighborhood_overview','picture_url','host_url','host_about','host_thumbnail_url','host_picture_url','host_neighbourhood','host_verifications','neighbourhood','neighbourhood_cleansed','neighbourhood_group_cleansed','latitude','longitude','amenities','calendar_updated','availability_60','availability_365','review_scores_communication','review_scores_value','calculated_host_listings_count'], axis=1)\n",
    "df1"
   ]
  },
  {
   "cell_type": "code",
   "execution_count": 39,
   "metadata": {},
   "outputs": [],
   "source": [
    "df1.to_csv('Lista_50_var.csv')"
   ]
  },
  {
   "cell_type": "code",
   "execution_count": null,
   "metadata": {},
   "outputs": [],
   "source": [
    "#Imprimimos el tipo de variables\n",
    "print(df1.dtypes)"
   ]
  },
  {
   "cell_type": "code",
   "execution_count": 52,
   "metadata": {},
   "outputs": [],
   "source": [
    "#Localizamos la cantidad de valores nulos que tiene cada columna y la imprimimos en un csv para tenerlo localizado.\n",
    "valores_nulos= df1.isnull().sum()\n",
    "valores_nulos\n",
    "#valores_nulos.to_csv('Valores_Nulos_Temp.csv')"
   ]
  },
  {
   "cell_type": "code",
   "execution_count": 40,
   "metadata": {},
   "outputs": [
    {
     "data": {
      "text/plain": [
       "np.int64(6330)"
      ]
     },
     "execution_count": 40,
     "metadata": {},
     "output_type": "execute_result"
    }
   ],
   "source": [
    "#Localizamos los valores nulos del todo el df\n",
    "valores_nulos= df1.isnull().sum().sum()\n",
    "valores_nulos"
   ]
  },
  {
   "cell_type": "code",
   "execution_count": 19,
   "metadata": {},
   "outputs": [],
   "source": [
    "#Utilizamos el promedio para sustituir valores nulos\n",
    "df1['host_response_rate'] = df1['host_response_rate'].fillna(round(df['host_response_rate'].mean(), 1))\n",
    "df1['host_acceptance_rate'] = df1['host_acceptance_rate'].fillna(round(df['host_acceptance_rate'].mean(), 1))\n",
    "df1['bathrooms'] = df1['bathrooms'].fillna(round(df['bathrooms'].mean(), 1))"
   ]
  },
  {
   "cell_type": "code",
   "execution_count": 37,
   "metadata": {},
   "outputs": [],
   "source": [
    "#Utilizamos la mediana para sustituir valores nulos\n",
    "df1['bedrooms'] = df1['bedrooms'].fillna(round(df['bedrooms'].median(), 1))\n",
    "df1['beds'] = df1['beds'].fillna(round(df['beds'].median(), 1))\n",
    "df1['price'] = df1['price'].fillna(round(df['price'].median(), 1))"
   ]
  },
  {
   "cell_type": "code",
   "execution_count": 54,
   "metadata": {},
   "outputs": [],
   "source": [
    "#Utilizamos el relleno con 0 para sustituir valores nulos\n",
    "df1['minimum_minimum_nights']= df1['minimum_minimum_nights'].fillna(0)\n",
    "df1['maximum_minimum_nights']= df1['maximum_minimum_nights'].fillna(0)\n",
    "df1['minimum_maximum_nights']= df1['minimum_maximum_nights'].fillna(0)\n",
    "df1['maximum_maximum_nights']= df1['maximum_maximum_nights'].fillna(0)\n",
    "df1['minimum_nights_avg_ntm']= df1['minimum_nights_avg_ntm'].fillna(0)\n",
    "df1['maximum_nights_avg_ntm']= df1['maximum_nights_avg_ntm'].fillna(0)\n",
    "df1['reviews_per_month']= df1['reviews_per_month'].fillna(0)"
   ]
  },
  {
   "cell_type": "code",
   "execution_count": null,
   "metadata": {},
   "outputs": [
    {
     "name": "stderr",
     "output_type": "stream",
     "text": [
      "C:\\Users\\ghseb\\AppData\\Local\\Temp\\ipykernel_15108\\997719561.py:1: FutureWarning: Series.fillna with 'method' is deprecated and will raise in a future version. Use obj.ffill() or obj.bfill() instead.\n",
      "  df1[\"host_response_time\"]=df1[\"host_response_time\"].fillna(method='ffill')\n",
      "C:\\Users\\ghseb\\AppData\\Local\\Temp\\ipykernel_15108\\997719561.py:2: FutureWarning: Series.fillna with 'method' is deprecated and will raise in a future version. Use obj.ffill() or obj.bfill() instead.\n",
      "  df1[\"host_location\"]=df1[\"host_location\"].fillna(method='ffill')\n",
      "C:\\Users\\ghseb\\AppData\\Local\\Temp\\ipykernel_15108\\997719561.py:3: FutureWarning: Series.fillna with 'method' is deprecated and will raise in a future version. Use obj.ffill() or obj.bfill() instead.\n",
      "  df1[\"has_availability\"]=df1[\"has_availability\"].fillna(method='ffill')\n",
      "C:\\Users\\ghseb\\AppData\\Local\\Temp\\ipykernel_15108\\997719561.py:4: FutureWarning: Series.fillna with 'method' is deprecated and will raise in a future version. Use obj.ffill() or obj.bfill() instead.\n",
      "  df1[\"first_review\"]=df1[\"first_review\"].fillna(method='ffill')\n",
      "C:\\Users\\ghseb\\AppData\\Local\\Temp\\ipykernel_15108\\997719561.py:5: FutureWarning: Series.fillna with 'method' is deprecated and will raise in a future version. Use obj.ffill() or obj.bfill() instead.\n",
      "  df1[\"last_review\"]=df1[\"last_review\"].fillna(method='ffill')\n"
     ]
    }
   ],
   "source": [
    "#Usamos el ffil para sustitución\n",
    "df1[\"host_response_time\"]=df1[\"host_response_time\"].fillna(method='ffill')\n",
    "df1[\"host_location\"]=df1[\"host_location\"].fillna(method='ffill')\n",
    "df1[\"has_availability\"]=df1[\"has_availability\"].fillna(method='ffill')\n",
    "df1[\"first_review\"]=df1[\"first_review\"].fillna(method='ffill')\n",
    "df1[\"last_review\"]=df1[\"last_review\"].fillna(method='ffill')"
   ]
  },
  {
   "cell_type": "code",
   "execution_count": null,
   "metadata": {},
   "outputs": [],
   "source": [
    "#Usamos el bfil para sustitución\n",
    "df1['license']= df1['license'].fillna(method='bfill')\n",
    "df1['reviews_per_month']= df1['reviews_per_month'].fillna(method='bfill')"
   ]
  },
  {
   "cell_type": "code",
   "execution_count": null,
   "metadata": {},
   "outputs": [],
   "source": [
    "#Imprimimos la cantidad de valores nulos de todo el df\n",
    "valores_nulos= df1.isnull().sum().sum()\n",
    "valores_nulos"
   ]
  },
  {
   "cell_type": "code",
   "execution_count": 55,
   "metadata": {},
   "outputs": [],
   "source": [
    "df1.to_csv('Lista_50_var_sin_nulos.csv')"
   ]
  }
 ],
 "metadata": {
  "kernelspec": {
   "display_name": "Python 3",
   "language": "python",
   "name": "python3"
  },
  "language_info": {
   "codemirror_mode": {
    "name": "ipython",
    "version": 3
   },
   "file_extension": ".py",
   "mimetype": "text/x-python",
   "name": "python",
   "nbconvert_exporter": "python",
   "pygments_lexer": "ipython3",
   "version": "3.13.1"
  }
 },
 "nbformat": 4,
 "nbformat_minor": 2
}
